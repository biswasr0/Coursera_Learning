{
 "cells": [
  {
   "cell_type": "code",
   "execution_count": 2,
   "metadata": {},
   "outputs": [],
   "source": [
    "import pandas as pd"
   ]
  },
  {
   "cell_type": "code",
   "execution_count": 3,
   "metadata": {},
   "outputs": [],
   "source": [
    "import numpy as np"
   ]
  },
  {
   "cell_type": "code",
   "execution_count": 4,
   "metadata": {},
   "outputs": [
    {
     "data": {
      "text/plain": [
       "42"
      ]
     },
     "execution_count": 4,
     "metadata": {},
     "output_type": "execute_result"
    }
   ],
   "source": [
    "10 + 32"
   ]
  },
  {
   "cell_type": "code",
   "execution_count": 13,
   "metadata": {},
   "outputs": [
    {
     "data": {
      "text/plain": [
       "42"
      ]
     },
     "execution_count": 13,
     "metadata": {},
     "output_type": "execute_result"
    }
   ],
   "source": [
    "Out [4]"
   ]
  },
  {
   "cell_type": "code",
   "execution_count": 14,
   "metadata": {},
   "outputs": [],
   "source": [
    "r=Out[4]"
   ]
  },
  {
   "cell_type": "code",
   "execution_count": 15,
   "metadata": {},
   "outputs": [
    {
     "data": {
      "text/plain": [
       "42"
      ]
     },
     "execution_count": 15,
     "metadata": {},
     "output_type": "execute_result"
    }
   ],
   "source": [
    "r"
   ]
  },
  {
   "cell_type": "code",
   "execution_count": 17,
   "metadata": {},
   "outputs": [
    {
     "data": {
      "text/plain": [
       "0.8939966636005579"
      ]
     },
     "execution_count": 17,
     "metadata": {},
     "output_type": "execute_result"
    }
   ],
   "source": [
    "np.sin(90)"
   ]
  },
  {
   "cell_type": "code",
   "execution_count": 19,
   "metadata": {},
   "outputs": [],
   "source": [
    "np.sin??"
   ]
  },
  {
   "cell_type": "code",
   "execution_count": 20,
   "metadata": {},
   "outputs": [
    {
     "data": {
      "text/plain": [
       "'/Users/rbiswa03'"
      ]
     },
     "execution_count": 20,
     "metadata": {},
     "output_type": "execute_result"
    }
   ],
   "source": [
    "%pwd"
   ]
  },
  {
   "cell_type": "code",
   "execution_count": 21,
   "metadata": {},
   "outputs": [
    {
     "name": "stdout",
     "output_type": "stream",
     "text": [
      "-0.9589242746631385\n",
      "-0.9589242746631385\n",
      "-0.9589242746631385\n",
      "-0.9589242746631385\n",
      "-0.9589242746631385\n",
      "CPU times: user 351 µs, sys: 394 µs, total: 745 µs\n",
      "Wall time: 1.04 ms\n"
     ]
    }
   ],
   "source": [
    "%%time\n",
    "for i in range (5):\n",
    "    print (np.sin(5))\n"
   ]
  },
  {
   "cell_type": "code",
   "execution_count": 23,
   "metadata": {},
   "outputs": [],
   "source": [
    "%magic magic"
   ]
  },
  {
   "cell_type": "code",
   "execution_count": 25,
   "metadata": {},
   "outputs": [
    {
     "name": "stdout",
     "output_type": "stream",
     "text": [
      "\u001b[34mBluetooth\u001b[m\u001b[m                 fsck_apfs.log             system.log.6.gz\r\n",
      "\u001b[34mCoreDuet\u001b[m\u001b[m                  fsck_apfs_error.log       system.log.7.gz\r\n",
      "\u001b[34mDiagnosticMessages\u001b[m\u001b[m        fsck_hfs.log              \u001b[34muucp\u001b[m\u001b[m\r\n",
      "\u001b[34mTrendMicro\u001b[m\u001b[m                hfs_convert.log           weekly.out\r\n",
      "\u001b[31macroUpdaterTools.log\u001b[m\u001b[m      install.log               wifi.log\r\n",
      "alf.log                   monthly.out               wifi.log.0.bz2\r\n",
      "\u001b[34mapache2\u001b[m\u001b[m                   \u001b[34mpowermanagement\u001b[m\u001b[m           wifi.log.1\r\n",
      "appfirewall.log           \u001b[34mppp\u001b[m\u001b[m                       wifi.log.10\r\n",
      "\u001b[34masl\u001b[m\u001b[m                       shutdown_monitor.log      wifi.log.2.bz2\r\n",
      "\u001b[34mcom.apple.xpc.launchd\u001b[m\u001b[m     system.log                wifi.log.3.bz2\r\n",
      "corecaptured.log          system.log.0.gz           wifi.log.4.bz2\r\n",
      "\u001b[34mcups\u001b[m\u001b[m                      system.log.1.gz           wifi.log.5\r\n",
      "daily.out                 system.log.2.gz           wifi.log.6.bz2\r\n",
      "\u001b[34mdisplaypolicy\u001b[m\u001b[m             system.log.3.gz           wifi.log.7.bz2\r\n",
      "displaypolicyd.stdout.log system.log.4.gz           wifi.log.8\r\n",
      "\u001b[34memond\u001b[m\u001b[m                     system.log.5.gz           wifi.log.9\r\n"
     ]
    }
   ],
   "source": [
    "!ls /var/log"
   ]
  },
  {
   "cell_type": "code",
   "execution_count": 26,
   "metadata": {},
   "outputs": [
    {
     "name": "stdout",
     "output_type": "stream",
     "text": [
      "b-a-t\n"
     ]
    }
   ],
   "source": [
    "truth = \"beauty\"\n",
    "index = 0\n",
    "letters = []\n",
    "while index < len(truth):\n",
    "    letters.append(truth[index])\n",
    "    index += 2\n",
    "\n",
    "letters = '-'.join(letters)\n",
    "print(letters)"
   ]
  },
  {
   "cell_type": "code",
   "execution_count": null,
   "metadata": {},
   "outputs": [],
   "source": []
  }
 ],
 "metadata": {
  "kernelspec": {
   "display_name": "Python 3",
   "language": "python",
   "name": "python3"
  },
  "language_info": {
   "codemirror_mode": {
    "name": "ipython",
    "version": 3
   },
   "file_extension": ".py",
   "mimetype": "text/x-python",
   "name": "python",
   "nbconvert_exporter": "python",
   "pygments_lexer": "ipython3",
   "version": "3.7.3"
  }
 },
 "nbformat": 4,
 "nbformat_minor": 2
}
